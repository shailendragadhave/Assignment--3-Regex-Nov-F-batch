{
 "cells": [
  {
   "cell_type": "code",
   "execution_count": 1,
   "id": "5475c1f4",
   "metadata": {},
   "outputs": [
    {
     "name": "stdout",
     "output_type": "stream",
     "text": [
      "['APPLE', 'BANANA', 'KIWI', 'MANGO', '']\n"
     ]
    }
   ],
   "source": [
    "# assginment - extracting fruits \n",
    "s = \"APPLEFRUITBANANAFRUITKIWIFRUITMANGOFRUIT\"\n",
    "s1=s.split(\"FRUIT\")\n",
    "print(s1)"
   ]
  },
  {
   "cell_type": "code",
   "execution_count": 7,
   "id": "d9ceaeb1",
   "metadata": {},
   "outputs": [
    {
     "name": "stdout",
     "output_type": "stream",
     "text": [
      "['arjun.yadav', 'gmail.com']\n"
     ]
    }
   ],
   "source": [
    "# assignment email id \n",
    "e = \"arjun.yadav@gmail.com\"\n",
    "s2 = e.split(\"@\")\n",
    "print(s2)"
   ]
  },
  {
   "cell_type": "code",
   "execution_count": 8,
   "id": "8351575d",
   "metadata": {},
   "outputs": [
    {
     "name": "stdout",
     "output_type": "stream",
     "text": [
      "['arjun', 'yadav']\n"
     ]
    }
   ],
   "source": [
    "e1 = \"arjun.yadav\"\n",
    "s3 = e1.split(\".\")\n",
    "print(s3)"
   ]
  },
  {
   "cell_type": "code",
   "execution_count": 9,
   "id": "41a4ba0c",
   "metadata": {},
   "outputs": [
    {
     "name": "stdout",
     "output_type": "stream",
     "text": [
      "['arjun.yadav.1995', 'gmail.com']\n"
     ]
    }
   ],
   "source": [
    "e2 = \"arjun.yadav.1995@gmail.com\"\n",
    "s4 = e2.split(\"@\")\n",
    "print(s4)"
   ]
  },
  {
   "cell_type": "code",
   "execution_count": 12,
   "id": "9f3c3800",
   "metadata": {},
   "outputs": [
    {
     "name": "stdout",
     "output_type": "stream",
     "text": [
      "name: , last name: , Age:  ['arjun', 'yadav', '1995']\n"
     ]
    }
   ],
   "source": [
    "e3 = \"arjun.yadav.1995\"\n",
    "s5 = e3.split(\".\")\n",
    "print(\"name: , last name: , Age: \" ,s5)"
   ]
  },
  {
   "cell_type": "code",
   "execution_count": null,
   "id": "a97afb02",
   "metadata": {},
   "outputs": [],
   "source": []
  }
 ],
 "metadata": {
  "kernelspec": {
   "display_name": "Python 3",
   "language": "python",
   "name": "python3"
  },
  "language_info": {
   "codemirror_mode": {
    "name": "ipython",
    "version": 3
   },
   "file_extension": ".py",
   "mimetype": "text/x-python",
   "name": "python",
   "nbconvert_exporter": "python",
   "pygments_lexer": "ipython3",
   "version": "3.8.8"
  }
 },
 "nbformat": 4,
 "nbformat_minor": 5
}
